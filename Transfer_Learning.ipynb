{
 "nbformat": 4,
 "nbformat_minor": 0,
 "metadata": {
  "colab": {
   "provenance": [],
   "gpuType": "T4"
  },
  "kernelspec": {
   "name": "python3",
   "display_name": "Python 3"
  },
  "language_info": {
   "name": "python"
  },
  "accelerator": "GPU"
 },
 "cells": [
  {
   "cell_type": "markdown",
   "source": [
    "Import the necessary python packages and libraries in the following cell."
   ],
   "metadata": {
    "collapsed": false
   }
  },
  {
   "cell_type": "code",
   "execution_count": null,
   "metadata": {
    "id": "Pvvfqso5Lwo5"
   },
   "outputs": [],
   "source": [
    "## Import the libraries here in this cell\n",
    "\n",
    "import torch\n",
    "import torchvision\n",
    "import torchvision.transforms as transforms\n",
    "from torch.utils.data import Subset\n",
    "from torchvision import datasets\n",
    "from torch.utils.data import DataLoader\n",
    "import torchvision.models as models\n",
    "import torch.optim as optim\n",
    "\n",
    "import matplotlib.pyplot as plt\n",
    "import numpy as np\n",
    "\n",
    "import seaborn as sns\n",
    "from sklearn.metrics import confusion_matrix\n",
    "import torch.nn as nn\n",
    "import torch.nn.functional as F\n",
    "\n",
    "\n",
    "import torch.optim as optim\n",
    "\n"
   ]
  },
  {
   "cell_type": "code",
   "source": [
    "# Your code here\n",
    "print(\"Torch version:\", torch.__version__)\n",
    "print(\"Torchvision version:\", torchvision.__version__)\n",
    "\n"
   ],
   "metadata": {
    "id": "DAUwwgq4UoM4",
    "colab": {
     "base_uri": "https://localhost:8080/"
    },
    "outputId": "51120ea3-93ca-4701-bb9e-a7a9a707d577"
   },
   "execution_count": null,
   "outputs": [
    {
     "output_type": "stream",
     "name": "stdout",
     "text": [
      "Torch version: 2.1.0+cu121\n",
      "Torchvision version: 0.16.0+cu121\n"
     ]
    }
   ]
  },
  {
   "cell_type": "code",
   "source": [
    "# device = // Your code here\n",
    "\n",
    "if torch.cuda.is_available():\n",
    "    device = torch.device(\"cuda\")\n",
    "else:\n",
    "    device = torch.device(\"cpu\")"
   ],
   "metadata": {
    "id": "v36w_JYRN5zi"
   },
   "execution_count": null,
   "outputs": []
  },
  {
   "cell_type": "markdown",
   "source": [
    "*   Normalize data\n",
    "*   Resize each image to 224 x 224\n",
    "*   Add Color Jitter with hue and saturation as 0.5\n",
    "*   Introduce Random horizontal flips\n",
    "*   Rotate images about 20 degrees\n"
   ],
   "metadata": {
    "id": "uRagh6zpX6eu"
   }
  },
  {
   "cell_type": "code",
   "source": [
    "# transform = // Your code here\n",
    "\n",
    "transform = transforms.Compose([\n",
    "    transforms.Resize((224,224)),\n",
    "    transforms.ColorJitter(hue=0.5,saturation=0.5),\n",
    "    transforms.RandomHorizontalFlip(),\n",
    "    transforms.RandomRotation(20),\n",
    "    transforms.ToTensor(),\n",
    "    transforms.Normalize(mean=[0.5,0.5,0.5],std=[0.5,0.5,0.5])\n",
    "])"
   ],
   "metadata": {
    "id": "jyECVuHCLzjU"
   },
   "execution_count": null,
   "outputs": []
  },
  {
   "cell_type": "markdown",
   "source": [
    "Train and test Resnet18 on Even numbered Classes in CIFAR10 Dataset."
   ],
   "metadata": {
    "id": "lpigLtrfN_0r"
   }
  },
  {
   "cell_type": "code",
   "source": [
    "# Filter only even-numbered classes\n",
    "\n",
    "trainset = datasets.CIFAR10(root='./data', train=True, download=True, transform=transform)\n",
    "testset = datasets.CIFAR10(root='./data', train=False, download=True, transform=transform)\n",
    "\n",
    "# Your code here\n",
    "#HINT: Use torch utils Subset class to create a subset of the dataset\n",
    "\n",
    "even_classes = [i for i in range(0,10,2)]\n",
    "\n",
    "trainset_even = Subset(trainset,[i for i in range(len(trainset)) if trainset.targets[i] in even_classes])\n",
    "testset_even = Subset(testset, [i for i in range(len(testset)) if testset.targets[i] in even_classes])"
   ],
   "metadata": {
    "colab": {
     "base_uri": "https://localhost:8080/"
    },
    "id": "G9_FJjUTMNTz",
    "outputId": "2c4248be-4477-4b36-8bc4-d6cda61e4758"
   },
   "execution_count": null,
   "outputs": [
    {
     "output_type": "stream",
     "name": "stdout",
     "text": [
      "Downloading https://www.cs.toronto.edu/~kriz/cifar-10-python.tar.gz to ./data/cifar-10-python.tar.gz\n"
     ]
    },
    {
     "output_type": "stream",
     "name": "stderr",
     "text": [
      "100%|██████████| 170498071/170498071 [00:06<00:00, 28342736.43it/s]\n"
     ]
    },
    {
     "output_type": "stream",
     "name": "stdout",
     "text": [
      "Extracting ./data/cifar-10-python.tar.gz to ./data\n",
      "Files already downloaded and verified\n"
     ]
    }
   ]
  },
  {
   "cell_type": "code",
   "source": [
    "trainloader = DataLoader(trainset, batch_size=64, shuffle=True, num_workers=2)\n",
    "testloader = DataLoader(testset, batch_size=64, shuffle=False, num_workers=2)"
   ],
   "metadata": {
    "id": "BduF1BRaMXdy"
   },
   "execution_count": null,
   "outputs": []
  },
  {
   "cell_type": "code",
   "source": [
    "model = models.resnet18(weights='DEFAULT').to(device)\n",
    "model.fc = nn.Linear(model.fc.in_features, len(even_classes)).to(device)"
   ],
   "metadata": {
    "id": "bcy3z3LwMfD_",
    "colab": {
     "base_uri": "https://localhost:8080/"
    },
    "outputId": "865974a8-970d-4980-d3aa-fcbf63d97221"
   },
   "execution_count": null,
   "outputs": [
    {
     "output_type": "stream",
     "name": "stderr",
     "text": [
      "Downloading: \"https://download.pytorch.org/models/resnet18-f37072fd.pth\" to /root/.cache/torch/hub/checkpoints/resnet18-f37072fd.pth\n",
      "100%|██████████| 44.7M/44.7M [00:00<00:00, 54.2MB/s]\n"
     ]
    }
   ]
  },
  {
   "cell_type": "code",
   "source": [
    "criterion = nn.CrossEntropyLoss()\n",
    "optimizer = optim.Adam(model.parameters(), lr=0.001)"
   ],
   "metadata": {
    "id": "F0so2UU3Mk-H"
   },
   "execution_count": null,
   "outputs": []
  },
  {
   "cell_type": "markdown",
   "source": [
    "Complete the code for backpropagation inside the train function.\n"
   ],
   "metadata": {
    "id": "BE34EPF5cSx1"
   }
  },
  {
   "cell_type": "code",
   "source": [
    "def train(model, trainloader, criterion, optimizer, device):\n",
    "\n",
    "    model.train()\n",
    "\n",
    "    train_loss = 0.0\n",
    "    correct_train = 0\n",
    "    total_train = 0\n",
    "\n",
    "    for inputs, labels in trainloader:\n",
    "\n",
    "        inputs, labels = inputs.to(device), labels.to(device)\n",
    "\n",
    "        # Complete the code\n",
    "        optimizer.zero_grad()\n",
    "        outputs = model(inputs)\n",
    "        loss = criterion(outputs,labels)\n",
    "\n",
    "        loss.backward()\n",
    "        optimizer.step()\n",
    "\n",
    "        train_loss+=loss.item()\n",
    "\n",
    "        _, pred = outputs.max(1)\n",
    "        total_train += labels.size(0)\n",
    "        correct_train += pred.eq(labels).sum().item()\n",
    "\n",
    "    train_acc = 100 * correct_train / total_train\n",
    "\n",
    "    return train_loss/len(trainloader), train_acc"
   ],
   "metadata": {
    "id": "Dk3Ve6KZMwzo"
   },
   "execution_count": null,
   "outputs": []
  },
  {
   "cell_type": "markdown",
   "source": [
    "Complete the test function to test out the model."
   ],
   "metadata": {
    "id": "qyLTfPyQcndU"
   }
  },
  {
   "cell_type": "code",
   "source": [
    "def test(model, testloader, criterion, device):\n",
    "    model.eval()\n",
    "    correct_test = 0\n",
    "    total_test = 0\n",
    "\n",
    "    # Your code here\n",
    "    with torch.no_grad():\n",
    "      for inputs,labels in testloader:\n",
    "        inputs,labels = inputs.to(device),labels.to(device)\n",
    "\n",
    "        outputs = model(inputs)\n",
    "        loss = criterion(outputs,labels)\n",
    "\n",
    "        _,pred = outputs.max(1)\n",
    "        total_test +=labels.size(0)\n",
    "        correct_test+=pred.eq(labels).sum().item()\n",
    "    test_accuracy = 100 * correct_test / total_test\n",
    "\n",
    "    return test_accuracy"
   ],
   "metadata": {
    "id": "4hKN8C5oNrH8"
   },
   "execution_count": null,
   "outputs": []
  },
  {
   "cell_type": "markdown",
   "source": [
    " Complete the code to plot the train and test accuracies"
   ],
   "metadata": {
    "id": "yv8URWXMaiDE"
   }
  },
  {
   "cell_type": "code",
   "source": [
    "def plot_accuracies(train_accuracies, test_accuracies, epochs):\n",
    "\n",
    "    # Your code here\n",
    "    plt.plot(range(1,epochs+1),train_accuracies,label='Train Accuracy')\n",
    "    plt.plot(range(1, epochs + 1), test_accuracies, label='Test Accuracy')\n",
    "\n",
    "    plt.xlabel('Epochs')\n",
    "    plt.ylabel('Accuracy')\n",
    "    plt.title('Train and Test Accuracies vs Epochs')\n",
    "    plt.legend()\n",
    "    plt.show()\n"
   ],
   "metadata": {
    "id": "YapUFkS5NzHs"
   },
   "execution_count": null,
   "outputs": []
  },
  {
   "cell_type": "markdown",
   "source": [
    "Complete the code to plot a Confusion Matrix (without sklearn)"
   ],
   "metadata": {
    "id": "Cr2ILH4bXhw9"
   }
  },
  {
   "cell_type": "code",
   "source": [
    "def plot_confusion_matrix(model, dataloader, class_names, device):\n",
    "    model.eval()\n",
    "    all_labels = []\n",
    "    all_predictions = []\n",
    "\n",
    "    num_classes = len(class_names)\n",
    "    confusion_matrix = torch.zeros(num_classes, num_classes)\n",
    "\n",
    "    # Your code here\n",
    "    with torch.no_grad():\n",
    "      for inputs,labels in dataloader:\n",
    "        inputs,labels = inputs.to(device),labels.to(device)\n",
    "        outputs = model(inputs)\n",
    "        _,predictions = outputs.max(1)\n",
    "        all_labels.extend(labels.cpu().numpy())\n",
    "        all_predictions.extend(predictions.cpu().numpy())\n",
    "\n",
    "    confusion_matrix = confusion_matrix(all_labels,all_predictions)\n",
    "\n",
    "    plt.figure(figsize=(num_classes, num_classes))\n",
    "    sns.heatmap(confusion_matrix, annot=True, fmt=\".0f\", cmap=\"Blues\", xticklabels=class_names, yticklabels=class_names)\n",
    "    plt.xlabel('Predicted')\n",
    "    plt.ylabel('Actual')\n",
    "    plt.title('Confusion Matrix')\n",
    "    plt.show()\n"
   ],
   "metadata": {
    "id": "TcCb7VHRP7Mz"
   },
   "execution_count": null,
   "outputs": []
  },
  {
   "cell_type": "markdown",
   "source": [
    "Complete the following code block to train and test the model."
   ],
   "metadata": {
    "id": "zZMxIIdUm-OV"
   }
  },
  {
   "cell_type": "code",
   "source": [
    "epochs = 10\n",
    "train_accuracies = []\n",
    "test_accuracies = []\n",
    "\n",
    "for epoch in range(epochs):\n",
    "\n",
    "        # Complete the loop\n",
    "        train_loss ,train_acc = train(model,trainloader,criterion,optimizer,device)\n",
    "        train_accuracies.append(train_acc)\n",
    "\n",
    "        test_acc  = test(model, testloader, criterion, device)\n",
    "        test_accuracies.append(test_acc)\n",
    "\n",
    "        print(f'Epoch {epoch + 1} | Train Loss: {train_loss:.3f} | Train Accuracy: {train_acc:.3f}% | Test Accuracy: {test_acc:.3f}%')\n",
    "\n",
    "\n",
    "plot_accuracies(train_accuracies, test_accuracies, epochs)\n",
    "class_names = ['0', '2', '4', '6', '8']\n",
    "plot_confusion_matrix(model, testloader, class_names, device)"
   ],
   "metadata": {
    "id": "s5L9mHqiOL5n"
   },
   "execution_count": null,
   "outputs": []
  },
  {
   "cell_type": "code",
   "source": [],
   "metadata": {
    "id": "4SdFWP3R2h-b"
   },
   "execution_count": null,
   "outputs": []
  }
 ]
}